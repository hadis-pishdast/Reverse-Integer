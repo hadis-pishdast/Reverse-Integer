{
 "cells": [
  {
   "cell_type": "code",
   "execution_count": 11,
   "metadata": {},
   "outputs": [],
   "source": [
    "def reverse(x: int):\n",
    "        negative = x < 0\n",
    "        if negative:\n",
    "            x *= -1\n",
    "            \n",
    "        reversing = 0 \n",
    "        \n",
    "        while x > 0:\n",
    "            reversing = (reversing*10) + x % 10\n",
    "            x = x // 10\n",
    "            \n",
    "        if negative:\n",
    "            reversing *= -1\n",
    "            \n",
    "        if reversing > 2**31 or reversing < -2**31:\n",
    "            return 0\n",
    "        \n",
    "        return reversing    \n",
    "         "
   ]
  },
  {
   "cell_type": "code",
   "execution_count": 13,
   "metadata": {},
   "outputs": [
    {
     "data": {
      "text/plain": [
       "785435"
      ]
     },
     "execution_count": 13,
     "metadata": {},
     "output_type": "execute_result"
    }
   ],
   "source": [
    "reverse(534587)"
   ]
  },
  {
   "cell_type": "code",
   "execution_count": null,
   "metadata": {},
   "outputs": [],
   "source": []
  }
 ],
 "metadata": {
  "kernelspec": {
   "display_name": "Python 3",
   "language": "python",
   "name": "python3"
  },
  "language_info": {
   "codemirror_mode": {
    "name": "ipython",
    "version": 3
   },
   "file_extension": ".py",
   "mimetype": "text/x-python",
   "name": "python",
   "nbconvert_exporter": "python",
   "pygments_lexer": "ipython3",
   "version": "3.7.0"
  }
 },
 "nbformat": 4,
 "nbformat_minor": 4
}
